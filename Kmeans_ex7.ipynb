{
 "cells": [
  {
   "cell_type": "code",
   "execution_count": 2,
   "metadata": {
    "collapsed": true
   },
   "outputs": [],
   "source": [
    "import numpy as np\n",
    "import scipy.io as sio\n",
    "import matplotlib.pyplot as plt"
   ]
  },
  {
   "cell_type": "code",
   "execution_count": 3,
   "metadata": {
    "collapsed": false
   },
   "outputs": [],
   "source": [
    "def findClosestCentroids(X,centroids):\n",
    "    k=len(centroids)\n",
    "    idx=np.zeros([len(X),1])\n",
    "    for i in range(0,len(X)):\n",
    "        dist=sum(np.power(X[i,:]-centroids[0,:],2))\n",
    "        idx[i]=0\n",
    "        for j in range(0,k):\n",
    "            if(sum(np.power(X[i,:]-centroids[j,:],2))<dist):\n",
    "                dist=sum(np.power(X[i,:]-centroids[j,:],2))\n",
    "                idx[i]=j\n",
    "    return idx\n",
    "\n",
    "def computeCentroids(X,idx,k):\n",
    "    [m,n]=X.shape\n",
    "    centroids=np.zeros([k,n])\n",
    "    for i in range(0,k):\n",
    "        matches=(idx==i)\n",
    "        chosenVals=X[matches[:,0]]\n",
    "        centroids[i,:]=np.mean(chosenVals,axis=0)\n",
    "    return centroids\n",
    "\n",
    "def runKmeans(X,initial_centroids,max_iters):\n",
    "    [m,n] = X.shape\n",
    "    k=len(initial_centroids)\n",
    "    centroids=initial_centroids\n",
    "    previous_centroids=centroids\n",
    "    idx=np.zeros([m,1])\n",
    "    for i in range(0,max_iters):\n",
    "        print('iteration ',i+1)\n",
    "        idx=findClosestCentroids(X,centroids)\n",
    "        centroids=computeCentroids(X,idx,k)\n",
    "    return centroids,idx\n",
    "    \n",
    "def initCentroid(X,k):\n",
    "    a,b=X.shape\n",
    "    centroids=np.zeros([k,b])\n",
    "    np.random.shuffle(X)\n",
    "    centroids=X[0:k,:]\n",
    "    return centroids"
   ]
  },
  {
   "cell_type": "code",
   "execution_count": 5,
   "metadata": {
    "collapsed": false
   },
   "outputs": [
    {
     "name": "stdout",
     "output_type": "stream",
     "text": [
      "<class 'numpy.ndarray'>\n",
      "[[ 6.99198434  2.98706729]\n",
      " [ 2.17777173  4.86154019]\n",
      " [ 2.25150754  5.4450031 ]]\n",
      "iteration  1\n",
      "iteration  2\n",
      "iteration  3\n",
      "iteration  4\n",
      "iteration  5\n",
      "iteration  6\n",
      "iteration  7\n",
      "iteration  8\n",
      "iteration  9\n",
      "iteration  10\n",
      "[[ 6.03366736  3.00052511]\n",
      " [ 3.04367119  1.01541041]\n",
      " [ 1.95399466  5.02557006]]\n"
     ]
    }
   ],
   "source": [
    "#tester\n",
    "#import dataset\n",
    "contents = sio.loadmat('./machine-learning-ex7/machine-learning-ex7/ex7/ex7data2.mat')\n",
    "X=contents['X']\n",
    "print(type(X))\n",
    "\n",
    "#define inital centroids\n",
    "k=3\n",
    "initial_centroids = initCentroid(X,k)\n",
    "print(initial_centroids)\n",
    "\n",
    "#number of times to iterate\n",
    "max_iters=10\n",
    "\n",
    "centroids,idx=runKmeans(X,initial_centroids,max_iters)\n",
    "print(centroids)"
   ]
  },
  {
   "cell_type": "code",
   "execution_count": 12,
   "metadata": {
    "collapsed": false
   },
   "outputs": [
    {
     "name": "stderr",
     "output_type": "stream",
     "text": [
      "C:\\Users\\likkhian\\Anaconda3\\lib\\site-packages\\matplotlib\\collections.py:590: FutureWarning: elementwise comparison failed; returning scalar instead, but in the future will perform elementwise comparison\n",
      "  if self._edgecolors == str('face'):\n"
     ]
    }
   ],
   "source": [
    "#print output\n",
    "plt.scatter(X[:,0],X[:,1],c=idx)\n",
    "plt.scatter(centroids[:,0],centroids[:,1],marker='^')\n",
    "plt.show()"
   ]
  },
  {
   "cell_type": "code",
   "execution_count": null,
   "metadata": {
    "collapsed": true
   },
   "outputs": [],
   "source": []
  }
 ],
 "metadata": {
  "kernelspec": {
   "display_name": "Python 3",
   "language": "python",
   "name": "python3"
  },
  "language_info": {
   "codemirror_mode": {
    "name": "ipython",
    "version": 3
   },
   "file_extension": ".py",
   "mimetype": "text/x-python",
   "name": "python",
   "nbconvert_exporter": "python",
   "pygments_lexer": "ipython3",
   "version": "3.5.2"
  }
 },
 "nbformat": 4,
 "nbformat_minor": 0
}
